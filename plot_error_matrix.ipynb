{
 "cells": [
  {
   "cell_type": "code",
   "execution_count": 3,
   "metadata": {},
   "outputs": [
    {
     "data": {
      "text/plain": [
       "<matplotlib.collections.PathCollection at 0x17d45f8aac8>"
      ]
     },
     "execution_count": 3,
     "metadata": {},
     "output_type": "execute_result"
    },
    {
     "data": {
      "image/png": "[encoded data removed]",
      "text/plain": [
       "<Figure size 432x288 with 1 Axes>"
      ]
     },
     "metadata": {
      "needs_background": "light"
     },
     "output_type": "display_data"
    }
   ],
   "source": [
    "import numpy as np\n",
    "import matplotlib.pyplot as plt\n",
    "file = open(\"C:\\\\Users\\\\Jannick\\\\GitProjects\\\\error_matrix.txt\", \"r\")\n",
    "lines =  file.readlines()\n",
    "file.close()\n",
    "line_ph = []\n",
    "error = []\n",
    "for line in lines:\n",
    "    line_ph.append(line.split())\n",
    "line_ph = np.array(line_ph)\n",
    "for mod in range(0, 2):\n",
    "    error_ph = []\n",
    "    for i in range(0, len(line_ph)):\n",
    "        error_ph.append(float(line_ph[i][mod]))\n",
    "    error.append(error_ph)\n",
    "error = np.array(error).T\n",
    "plt.scatter(error[:, 0], error[:, 1])"
   ]
  },
  {
   "cell_type": "code",
   "execution_count": null,
   "metadata": {},
   "outputs": [],
   "source": []
  },
  {
   "cell_type": "code",
   "execution_count": null,
   "metadata": {},
   "outputs": [],
   "source": []
  }
 ],
 "metadata": {
  "kernelspec": {
   "display_name": "Python 3",
   "language": "python",
   "name": "python3"
  },
  "language_info": {
   "codemirror_mode": {
    "name": "ipython",
    "version": 3
   },
   "file_extension": ".py",
   "mimetype": "text/x-python",
   "name": "python",
   "nbconvert_exporter": "python",
   "pygments_lexer": "ipython3",
   "version": "3.7.3"
  }
 },
 "nbformat": 4,
 "nbformat_minor": 2
}
